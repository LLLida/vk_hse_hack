{
 "cells": [
  {
   "cell_type": "markdown",
   "id": "edcd6a96-e2f0-45ea-88d4-0cc11394ab07",
   "metadata": {},
   "source": [
    "## Предсказание пола/возраста по посещениям сайтов\n",
    "\n",
    "Для начала, подключим хранилище s3, содержащее исходные данные:"
   ]
  },
  {
   "cell_type": "code",
   "execution_count": 9,
   "id": "3ef00818-c3bf-4a01-ab3b-ed96f4ad32f3",
   "metadata": {
    "tags": []
   },
   "outputs": [],
   "source": [
    "!chmod 600 .s3_passwd\n",
    "!mkdir -p mnt\n",
    "!s3fs hsevkhack mnt -o url=http://hb.vkcs.cloud -o use_path_request_style -o passwd_file=.s3_passwd -o ro"
   ]
  },
  {
   "cell_type": "markdown",
   "id": "b18ac963-f688-4263-99dc-5fc0ba5d4225",
   "metadata": {
    "tags": []
   },
   "source": [
    "Убедимся, что в директории `mnt` содержатся соответствующие таблицы:"
   ]
  },
  {
   "cell_type": "code",
   "execution_count": 10,
   "id": "af0a3a60-6a01-4409-aec2-d891125a2dc2",
   "metadata": {
    "tags": []
   },
   "outputs": [
    {
     "name": "stdout",
     "output_type": "stream",
     "text": [
      "geo_dataframe.csv  requests  train_users.csv\n"
     ]
    }
   ],
   "source": [
    "!ls mnt/"
   ]
  },
  {
   "cell_type": "markdown",
   "id": "c173c190-dc10-4e36-b5dd-77197e312e08",
   "metadata": {},
   "source": [
    "Если по каким-то причинам директорию смонтировать не удалось, используйте код ниже, чтобы скачать данные к себе в локальное хранилище. В противном случае **пропустите следующую ячейку**."
   ]
  },
  {
   "cell_type": "code",
   "execution_count": null,
   "id": "5a42c666-ce6f-4827-847d-01c95f50bc62",
   "metadata": {
    "tags": []
   },
   "outputs": [],
   "source": [
    "import subprocess\n",
    "!mkdir -p data\n",
    "!wget https://hsehack.hb.ru-msk.vkcs.cloud/geo_dataframe.csv -P data\n",
    "!wget https://hsehack.hb.ru-msk.vkcs.cloud/train_users.csv -P data\n",
    "!mkdir -p data/requests\n",
    "for i in range(30):\n",
    "    print(f\"Downloading part {i}...\")\n",
    "    subprocess.call([\"wget\", f\"https://hsehack.hb.ru-msk.vkcs.cloud/requests/part_{i}.parquet\", \"-q\", \"-P\", \"data/requests\"])"
   ]
  },
  {
   "cell_type": "markdown",
   "id": "c956c69e-40eb-4f7f-ab04-790551231231",
   "metadata": {},
   "source": [
    "## Опции"
   ]
  },
  {
   "cell_type": "code",
   "execution_count": null,
   "id": "9565cc34-2f22-46f5-ada9-f29991762d95",
   "metadata": {},
   "outputs": [],
   "source": [
    "#prefix = 's3'\n",
    "prefix = '.'\n",
    "\n",
    "low_memory = True"
   ]
  },
  {
   "cell_type": "markdown",
   "id": "91eb607a-d14d-4dda-9dae-6e44e4bc80bf",
   "metadata": {},
   "source": [
    "## Загружаем данные\n",
    "\n",
    "Используем Pandas для работы с таблицами. `geo_dataframe` содержит данные о геолокации - регионе и стране."
   ]
  },
  {
   "cell_type": "code",
   "execution_count": 1,
   "id": "807c3f20-c421-4a7b-9314-ec9112984948",
   "metadata": {
    "tags": []
   },
   "outputs": [
    {
     "data": {
      "text/html": [
       "<div>\n",
       "<style scoped>\n",
       "    .dataframe tbody tr th:only-of-type {\n",
       "        vertical-align: middle;\n",
       "    }\n",
       "\n",
       "    .dataframe tbody tr th {\n",
       "        vertical-align: top;\n",
       "    }\n",
       "\n",
       "    .dataframe thead th {\n",
       "        text-align: right;\n",
       "    }\n",
       "</style>\n",
       "<table border=\"1\" class=\"dataframe\">\n",
       "  <thead>\n",
       "    <tr style=\"text-align: right;\">\n",
       "      <th></th>\n",
       "      <th>geo_id</th>\n",
       "      <th>region_id</th>\n",
       "      <th>country_id</th>\n",
       "    </tr>\n",
       "  </thead>\n",
       "  <tbody>\n",
       "    <tr>\n",
       "      <th>0</th>\n",
       "      <td>1</td>\n",
       "      <td>157</td>\n",
       "      <td>40</td>\n",
       "    </tr>\n",
       "    <tr>\n",
       "      <th>1</th>\n",
       "      <td>2</td>\n",
       "      <td>161</td>\n",
       "      <td>40</td>\n",
       "    </tr>\n",
       "    <tr>\n",
       "      <th>2</th>\n",
       "      <td>3</td>\n",
       "      <td>265</td>\n",
       "      <td>54</td>\n",
       "    </tr>\n",
       "    <tr>\n",
       "      <th>3</th>\n",
       "      <td>4</td>\n",
       "      <td>122</td>\n",
       "      <td>54</td>\n",
       "    </tr>\n",
       "    <tr>\n",
       "      <th>4</th>\n",
       "      <td>5</td>\n",
       "      <td>78</td>\n",
       "      <td>40</td>\n",
       "    </tr>\n",
       "    <tr>\n",
       "      <th>...</th>\n",
       "      <td>...</td>\n",
       "      <td>...</td>\n",
       "      <td>...</td>\n",
       "    </tr>\n",
       "    <tr>\n",
       "      <th>5528</th>\n",
       "      <td>5529</td>\n",
       "      <td>246</td>\n",
       "      <td>54</td>\n",
       "    </tr>\n",
       "    <tr>\n",
       "      <th>5529</th>\n",
       "      <td>5530</td>\n",
       "      <td>-1</td>\n",
       "      <td>63</td>\n",
       "    </tr>\n",
       "    <tr>\n",
       "      <th>5530</th>\n",
       "      <td>5531</td>\n",
       "      <td>101</td>\n",
       "      <td>40</td>\n",
       "    </tr>\n",
       "    <tr>\n",
       "      <th>5531</th>\n",
       "      <td>5532</td>\n",
       "      <td>21</td>\n",
       "      <td>68</td>\n",
       "    </tr>\n",
       "    <tr>\n",
       "      <th>5532</th>\n",
       "      <td>5533</td>\n",
       "      <td>58</td>\n",
       "      <td>40</td>\n",
       "    </tr>\n",
       "  </tbody>\n",
       "</table>\n",
       "<p>5533 rows × 3 columns</p>\n",
       "</div>"
      ],
      "text/plain": [
       "      geo_id  region_id  country_id\n",
       "0          1        157          40\n",
       "1          2        161          40\n",
       "2          3        265          54\n",
       "3          4        122          54\n",
       "4          5         78          40\n",
       "...      ...        ...         ...\n",
       "5528    5529        246          54\n",
       "5529    5530         -1          63\n",
       "5530    5531        101          40\n",
       "5531    5532         21          68\n",
       "5532    5533         58          40\n",
       "\n",
       "[5533 rows x 3 columns]"
      ]
     },
     "execution_count": 1,
     "metadata": {},
     "output_type": "execute_result"
    }
   ],
   "source": [
    "import pandas as pd\n",
    "\n",
    "geo = pd.read_csv(prefix+'/geo_dataframe.csv')\n",
    "geo"
   ]
  },
  {
   "cell_type": "markdown",
   "id": "72b5ecce-e866-4e01-a2dd-1d26cd7452d9",
   "metadata": {},
   "source": [
    "Таблица `train_users` - это ваша обучающая выборка, содержащая пол и возраст пользователей. Аналогичная таблица для тестового датасета будет вам предоставлена за час до stop coding."
   ]
  },
  {
   "cell_type": "code",
   "execution_count": 2,
   "id": "d985e0cf-3d53-41d7-a004-2d081cb6573d",
   "metadata": {
    "tags": []
   },
   "outputs": [
    {
     "data": {
      "text/html": [
       "<div>\n",
       "<style scoped>\n",
       "    .dataframe tbody tr th:only-of-type {\n",
       "        vertical-align: middle;\n",
       "    }\n",
       "\n",
       "    .dataframe tbody tr th {\n",
       "        vertical-align: top;\n",
       "    }\n",
       "\n",
       "    .dataframe thead th {\n",
       "        text-align: right;\n",
       "    }\n",
       "</style>\n",
       "<table border=\"1\" class=\"dataframe\">\n",
       "  <thead>\n",
       "    <tr style=\"text-align: right;\">\n",
       "      <th></th>\n",
       "      <th>user_id</th>\n",
       "      <th>gender</th>\n",
       "      <th>age</th>\n",
       "    </tr>\n",
       "  </thead>\n",
       "  <tbody>\n",
       "    <tr>\n",
       "      <th>0</th>\n",
       "      <td>2</td>\n",
       "      <td>1</td>\n",
       "      <td>61</td>\n",
       "    </tr>\n",
       "    <tr>\n",
       "      <th>1</th>\n",
       "      <td>3</td>\n",
       "      <td>1</td>\n",
       "      <td>55</td>\n",
       "    </tr>\n",
       "    <tr>\n",
       "      <th>2</th>\n",
       "      <td>6</td>\n",
       "      <td>0</td>\n",
       "      <td>46</td>\n",
       "    </tr>\n",
       "    <tr>\n",
       "      <th>3</th>\n",
       "      <td>14</td>\n",
       "      <td>0</td>\n",
       "      <td>66</td>\n",
       "    </tr>\n",
       "    <tr>\n",
       "      <th>4</th>\n",
       "      <td>17</td>\n",
       "      <td>0</td>\n",
       "      <td>53</td>\n",
       "    </tr>\n",
       "    <tr>\n",
       "      <th>...</th>\n",
       "      <td>...</td>\n",
       "      <td>...</td>\n",
       "      <td>...</td>\n",
       "    </tr>\n",
       "    <tr>\n",
       "      <th>4999995</th>\n",
       "      <td>17588859</td>\n",
       "      <td>1</td>\n",
       "      <td>64</td>\n",
       "    </tr>\n",
       "    <tr>\n",
       "      <th>4999996</th>\n",
       "      <td>17588860</td>\n",
       "      <td>0</td>\n",
       "      <td>69</td>\n",
       "    </tr>\n",
       "    <tr>\n",
       "      <th>4999997</th>\n",
       "      <td>17588861</td>\n",
       "      <td>1</td>\n",
       "      <td>51</td>\n",
       "    </tr>\n",
       "    <tr>\n",
       "      <th>4999998</th>\n",
       "      <td>17588864</td>\n",
       "      <td>0</td>\n",
       "      <td>30</td>\n",
       "    </tr>\n",
       "    <tr>\n",
       "      <th>4999999</th>\n",
       "      <td>17588865</td>\n",
       "      <td>0</td>\n",
       "      <td>38</td>\n",
       "    </tr>\n",
       "  </tbody>\n",
       "</table>\n",
       "<p>5000000 rows × 3 columns</p>\n",
       "</div>"
      ],
      "text/plain": [
       "          user_id  gender  age\n",
       "0               2       1   61\n",
       "1               3       1   55\n",
       "2               6       0   46\n",
       "3              14       0   66\n",
       "4              17       0   53\n",
       "...           ...     ...  ...\n",
       "4999995  17588859       1   64\n",
       "4999996  17588860       0   69\n",
       "4999997  17588861       1   51\n",
       "4999998  17588864       0   30\n",
       "4999999  17588865       0   38\n",
       "\n",
       "[5000000 rows x 3 columns]"
      ]
     },
     "execution_count": 2,
     "metadata": {},
     "output_type": "execute_result"
    }
   ],
   "source": [
    "users = pd.read_csv(prefix+'/train_users.csv')\n",
    "users"
   ]
  },
  {
   "cell_type": "markdown",
   "id": "45812919-7ca9-4a01-8067-2a3d9ee2c96f",
   "metadata": {
    "tags": []
   },
   "source": [
    "Для примера - вот распределение пользователей по полу:"
   ]
  },
  {
   "cell_type": "code",
   "execution_count": 3,
   "id": "f2b0c5ce-cc19-463c-813b-7372f6b6a2df",
   "metadata": {
    "tags": []
   },
   "outputs": [
    {
     "data": {
      "text/plain": [
       "<Axes: xlabel='gender'>"
      ]
     },
     "execution_count": 3,
     "metadata": {},
     "output_type": "execute_result"
    },
    {
     "data": {
      "image/png": "[encoded data removed]",
      "text/plain": [
       "<Figure size 640x480 with 1 Axes>"
      ]
     },
     "metadata": {},
     "output_type": "display_data"
    }
   ],
   "source": [
    "users.groupby('gender').agg({ 'user_id' : len }).plot.bar()"
   ]
  },
  {
   "cell_type": "code",
   "execution_count": 3,
   "id": "9c02bacd-48fb-4e92-9130-74552971809f",
   "metadata": {},
   "outputs": [
    {
     "data": {
      "text/plain": [
       "<Axes: xlabel='age'>"
      ]
     },
     "execution_count": 3,
     "metadata": {},
     "output_type": "execute_result"
    },
    {
     "data": {
      "image/png": "[encoded data removed]",
      "text/plain": [
       "<Figure size 640x480 with 1 Axes>"
      ]
     },
     "metadata": {},
     "output_type": "display_data"
    }
   ],
   "source": [
    "users.groupby('age').agg({ 'user_id' : len }).plot.bar()"
   ]
  },
  {
   "cell_type": "markdown",
   "id": "095a63d9-9ed2-40da-9206-26a9a6c71489",
   "metadata": {},
   "source": [
    "Основные данные о посещениях пользователями сайтов содержатся в табличке `requests`, представленной в формате parquet. Вы можете загрузить только одну часть таблички, или же всю таблицу, если она поместиться в памяти:"
   ]
  },
  {
   "cell_type": "code",
   "execution_count": 5,
   "id": "9e14f322-ec99-4c14-8e1a-ec373f767a9e",
   "metadata": {
    "tags": []
   },
   "outputs": [
    {
     "data": {
      "text/html": [
       "<div>\n",
       "<style scoped>\n",
       "    .dataframe tbody tr th:only-of-type {\n",
       "        vertical-align: middle;\n",
       "    }\n",
       "\n",
       "    .dataframe tbody tr th {\n",
       "        vertical-align: top;\n",
       "    }\n",
       "\n",
       "    .dataframe thead th {\n",
       "        text-align: right;\n",
       "    }\n",
       "</style>\n",
       "<table border=\"1\" class=\"dataframe\">\n",
       "  <thead>\n",
       "    <tr style=\"text-align: right;\">\n",
       "      <th></th>\n",
       "      <th>timestamp</th>\n",
       "      <th>geo_id</th>\n",
       "      <th>referer</th>\n",
       "      <th>user_id</th>\n",
       "      <th>user_agent</th>\n",
       "    </tr>\n",
       "  </thead>\n",
       "  <tbody>\n",
       "    <tr>\n",
       "      <th>0</th>\n",
       "      <td>1712169477</td>\n",
       "      <td>1224</td>\n",
       "      <td>https://www.domain_1118/path_107938</td>\n",
       "      <td>1628092</td>\n",
       "      <td>Mozilla/5.0 (Linux; Android 10; K) AppleWebKit...</td>\n",
       "    </tr>\n",
       "    <tr>\n",
       "      <th>1</th>\n",
       "      <td>1711945301</td>\n",
       "      <td>2540</td>\n",
       "      <td>https://domain_3207/path_175610</td>\n",
       "      <td>1013613</td>\n",
       "      <td>Mozilla/5.0 (Linux; Android 8.1.0; Redmi 5 Plu...</td>\n",
       "    </tr>\n",
       "    <tr>\n",
       "      <th>2</th>\n",
       "      <td>1712154596</td>\n",
       "      <td>4402</td>\n",
       "      <td>https://domain_2194/path_172150</td>\n",
       "      <td>8274161</td>\n",
       "      <td>Mozilla/5.0 (Windows NT 10.0; Win64; x64) Appl...</td>\n",
       "    </tr>\n",
       "    <tr>\n",
       "      <th>3</th>\n",
       "      <td>1711941903</td>\n",
       "      <td>3833</td>\n",
       "      <td>https://domain_2042/path_144480</td>\n",
       "      <td>17082498</td>\n",
       "      <td>Mozilla/5.0 (Windows NT 10.0; Win64; x64) Appl...</td>\n",
       "    </tr>\n",
       "    <tr>\n",
       "      <th>4</th>\n",
       "      <td>1712088484</td>\n",
       "      <td>3866</td>\n",
       "      <td>https://domain_3191/path_9105</td>\n",
       "      <td>12787875</td>\n",
       "      <td>Mozilla/5.0 (Windows NT 10.0; Win64; x64) Appl...</td>\n",
       "    </tr>\n",
       "    <tr>\n",
       "      <th>...</th>\n",
       "      <td>...</td>\n",
       "      <td>...</td>\n",
       "      <td>...</td>\n",
       "      <td>...</td>\n",
       "      <td>...</td>\n",
       "    </tr>\n",
       "    <tr>\n",
       "      <th>10000449</th>\n",
       "      <td>1712161101</td>\n",
       "      <td>702</td>\n",
       "      <td>https://domain_662/path_131980</td>\n",
       "      <td>2062442</td>\n",
       "      <td>Mozilla/5.0 (X11; Linux x86_64) AppleWebKit/53...</td>\n",
       "    </tr>\n",
       "    <tr>\n",
       "      <th>10000450</th>\n",
       "      <td>1711940706</td>\n",
       "      <td>3515</td>\n",
       "      <td>https://domain_1784/path_45033</td>\n",
       "      <td>2375719</td>\n",
       "      <td>Mozilla/5.0 (Linux; Android 10; K) AppleWebKit...</td>\n",
       "    </tr>\n",
       "    <tr>\n",
       "      <th>10000451</th>\n",
       "      <td>1712107755</td>\n",
       "      <td>3173</td>\n",
       "      <td>https://domain_1654/path_48166</td>\n",
       "      <td>11781572</td>\n",
       "      <td>Mozilla/5.0 (Linux; arm_64; Android 13; SM-A14...</td>\n",
       "    </tr>\n",
       "    <tr>\n",
       "      <th>10000452</th>\n",
       "      <td>1712107427</td>\n",
       "      <td>3833</td>\n",
       "      <td>https://domain_1654/path_10504</td>\n",
       "      <td>15183751</td>\n",
       "      <td>Mozilla/5.0 (Linux; arm_64; Android 12; SM-M21...</td>\n",
       "    </tr>\n",
       "    <tr>\n",
       "      <th>10000453</th>\n",
       "      <td>1712034201</td>\n",
       "      <td>964</td>\n",
       "      <td>https://www.domain_1605/path_166938</td>\n",
       "      <td>6247888</td>\n",
       "      <td>Mozilla/5.0 (Linux; Android 10; K) AppleWebKit...</td>\n",
       "    </tr>\n",
       "  </tbody>\n",
       "</table>\n",
       "<p>10000454 rows × 5 columns</p>\n",
       "</div>"
      ],
      "text/plain": [
       "           timestamp  geo_id                              referer   user_id  \\\n",
       "0         1712169477    1224  https://www.domain_1118/path_107938   1628092   \n",
       "1         1711945301    2540      https://domain_3207/path_175610   1013613   \n",
       "2         1712154596    4402      https://domain_2194/path_172150   8274161   \n",
       "3         1711941903    3833      https://domain_2042/path_144480  17082498   \n",
       "4         1712088484    3866        https://domain_3191/path_9105  12787875   \n",
       "...              ...     ...                                  ...       ...   \n",
       "10000449  1712161101     702       https://domain_662/path_131980   2062442   \n",
       "10000450  1711940706    3515       https://domain_1784/path_45033   2375719   \n",
       "10000451  1712107755    3173       https://domain_1654/path_48166  11781572   \n",
       "10000452  1712107427    3833       https://domain_1654/path_10504  15183751   \n",
       "10000453  1712034201     964  https://www.domain_1605/path_166938   6247888   \n",
       "\n",
       "                                                 user_agent  \n",
       "0         Mozilla/5.0 (Linux; Android 10; K) AppleWebKit...  \n",
       "1         Mozilla/5.0 (Linux; Android 8.1.0; Redmi 5 Plu...  \n",
       "2         Mozilla/5.0 (Windows NT 10.0; Win64; x64) Appl...  \n",
       "3         Mozilla/5.0 (Windows NT 10.0; Win64; x64) Appl...  \n",
       "4         Mozilla/5.0 (Windows NT 10.0; Win64; x64) Appl...  \n",
       "...                                                     ...  \n",
       "10000449  Mozilla/5.0 (X11; Linux x86_64) AppleWebKit/53...  \n",
       "10000450  Mozilla/5.0 (Linux; Android 10; K) AppleWebKit...  \n",
       "10000451  Mozilla/5.0 (Linux; arm_64; Android 13; SM-A14...  \n",
       "10000452  Mozilla/5.0 (Linux; arm_64; Android 12; SM-M21...  \n",
       "10000453  Mozilla/5.0 (Linux; Android 10; K) AppleWebKit...  \n",
       "\n",
       "[10000454 rows x 5 columns]"
      ]
     },
     "execution_count": 5,
     "metadata": {},
     "output_type": "execute_result"
    }
   ],
   "source": [
    "req1 = pd.read_parquet(prefix+'/requests/part_0.parquet')\n",
    "req1"
   ]
  },
  {
   "cell_type": "markdown",
   "id": "9e5882f5-ea2b-489d-8e71-a68e15038ae7",
   "metadata": {},
   "source": [
    "## Дерзайте!\n",
    "\n",
    "Вам необходимо построить предсказательную модель для прогнозирования пола и возраста пользователей по их посещениям. Таблица с тестовыми пользователями будет предоставлена вам за час до stop coding.\n",
    "\n",
    "ВАЖНО:\n",
    "* Таблицу с тестовыми данными нельзя использовать для обучения модели. Если жюри увидит, что вы использовали табличку с тестовыми данными - точность модели будет оцениваться в 0 баллов.\n",
    "* В ходе выступления необходимо продемонстрировать точность модели на тестовых данных."
   ]
  },
  {
   "cell_type": "markdown",
   "id": "1b3af9e9-9087-48e9-8ab9-e3542c772c51",
   "metadata": {},
   "source": [
    "### util"
   ]
  },
  {
   "cell_type": "code",
   "execution_count": 6,
   "id": "406b5898-df6a-492f-af62-9323723a9672",
   "metadata": {},
   "outputs": [
    {
     "name": "stdout",
     "output_type": "stream",
     "text": [
      "2024-04-03 21:37:57\n"
     ]
    }
   ],
   "source": [
    "import time\n",
    "import datetime\n",
    "\n",
    "#current_time = time.time()\n",
    "current_time = 1712169477\n",
    "\n",
    "dt_object = datetime.datetime.fromtimestamp(current_time)\n",
    "print(dt_object)"
   ]
  },
  {
   "cell_type": "code",
   "execution_count": 7,
   "id": "db76516e-eb9f-4564-aa5c-88e4b2c3d2f7",
   "metadata": {},
   "outputs": [
    {
     "data": {
      "text/plain": [
       "[1118, 3207]"
      ]
     },
     "execution_count": 7,
     "metadata": {},
     "output_type": "execute_result"
    }
   ],
   "source": [
    "def extract_domain_id(s: str):\n",
    "    if len(s) == 0:\n",
    "        return -1\n",
    "    pattern1 = 'domain_'\n",
    "    pattern2 = 'path_'\n",
    "    idx = s.find(pattern1)+len(pattern1)\n",
    "    idx2 = s.find(pattern2)+len(pattern2)\n",
    "    return int(s[idx:idx+s[idx:].find('/')])#, int(s[idx2:])\n",
    "\n",
    "examples = ['https://www.domain_1118/path_107938', 'https://domain_3207/path_175610']\n",
    "list(map(extract_domain_id, examples))"
   ]
  },
  {
   "cell_type": "code",
   "execution_count": 12,
   "id": "01af6412-b330-40ee-8709-787d6fc176a5",
   "metadata": {},
   "outputs": [],
   "source": [
    "if low_memory:\n",
    "    req1.drop(columns='user_agent', axis=1, inplace=True)\n",
    "req1['domain_id'] = req1['referer'].apply(extract_domain_id)\n",
    "if low_memory:\n",
    "    req1.drop(columns='referer', axis=1, inplace=True)\n",
    "req1"
   ]
  },
  {
   "cell_type": "code",
   "execution_count": 13,
   "id": "2533ab43-1a86-4893-aa22-616216eece37",
   "metadata": {},
   "outputs": [
    {
     "data": {
      "text/html": [
       "<div>\n",
       "<style scoped>\n",
       "    .dataframe tbody tr th:only-of-type {\n",
       "        vertical-align: middle;\n",
       "    }\n",
       "\n",
       "    .dataframe tbody tr th {\n",
       "        vertical-align: top;\n",
       "    }\n",
       "\n",
       "    .dataframe thead th {\n",
       "        text-align: right;\n",
       "    }\n",
       "</style>\n",
       "<table border=\"1\" class=\"dataframe\">\n",
       "  <thead>\n",
       "    <tr style=\"text-align: right;\">\n",
       "      <th></th>\n",
       "      <th>timestamp</th>\n",
       "      <th>geo_id</th>\n",
       "      <th>user_id</th>\n",
       "      <th>domain_id</th>\n",
       "      <th>gender</th>\n",
       "      <th>age</th>\n",
       "    </tr>\n",
       "  </thead>\n",
       "  <tbody>\n",
       "    <tr>\n",
       "      <th>0</th>\n",
       "      <td>1711945301</td>\n",
       "      <td>2540</td>\n",
       "      <td>1013613</td>\n",
       "      <td>3207</td>\n",
       "      <td>1</td>\n",
       "      <td>75</td>\n",
       "    </tr>\n",
       "    <tr>\n",
       "      <th>1</th>\n",
       "      <td>1711972560</td>\n",
       "      <td>2540</td>\n",
       "      <td>1013613</td>\n",
       "      <td>207</td>\n",
       "      <td>1</td>\n",
       "      <td>75</td>\n",
       "    </tr>\n",
       "    <tr>\n",
       "      <th>2</th>\n",
       "      <td>1711954939</td>\n",
       "      <td>2540</td>\n",
       "      <td>1013613</td>\n",
       "      <td>698</td>\n",
       "      <td>1</td>\n",
       "      <td>75</td>\n",
       "    </tr>\n",
       "    <tr>\n",
       "      <th>3</th>\n",
       "      <td>1711941903</td>\n",
       "      <td>3833</td>\n",
       "      <td>17082498</td>\n",
       "      <td>2042</td>\n",
       "      <td>0</td>\n",
       "      <td>72</td>\n",
       "    </tr>\n",
       "    <tr>\n",
       "      <th>4</th>\n",
       "      <td>1712044263</td>\n",
       "      <td>3833</td>\n",
       "      <td>17082498</td>\n",
       "      <td>2042</td>\n",
       "      <td>0</td>\n",
       "      <td>72</td>\n",
       "    </tr>\n",
       "    <tr>\n",
       "      <th>...</th>\n",
       "      <td>...</td>\n",
       "      <td>...</td>\n",
       "      <td>...</td>\n",
       "      <td>...</td>\n",
       "      <td>...</td>\n",
       "      <td>...</td>\n",
       "    </tr>\n",
       "    <tr>\n",
       "      <th>4661102</th>\n",
       "      <td>1711976568</td>\n",
       "      <td>2293</td>\n",
       "      <td>6656337</td>\n",
       "      <td>1892</td>\n",
       "      <td>0</td>\n",
       "      <td>41</td>\n",
       "    </tr>\n",
       "    <tr>\n",
       "      <th>4661103</th>\n",
       "      <td>1711941218</td>\n",
       "      <td>2712</td>\n",
       "      <td>5917152</td>\n",
       "      <td>1654</td>\n",
       "      <td>1</td>\n",
       "      <td>58</td>\n",
       "    </tr>\n",
       "    <tr>\n",
       "      <th>4661104</th>\n",
       "      <td>1712045245</td>\n",
       "      <td>860</td>\n",
       "      <td>2103837</td>\n",
       "      <td>11</td>\n",
       "      <td>1</td>\n",
       "      <td>53</td>\n",
       "    </tr>\n",
       "    <tr>\n",
       "      <th>4661105</th>\n",
       "      <td>1712145174</td>\n",
       "      <td>302</td>\n",
       "      <td>10496894</td>\n",
       "      <td>662</td>\n",
       "      <td>1</td>\n",
       "      <td>59</td>\n",
       "    </tr>\n",
       "    <tr>\n",
       "      <th>4661106</th>\n",
       "      <td>1712053566</td>\n",
       "      <td>3816</td>\n",
       "      <td>12914242</td>\n",
       "      <td>1834</td>\n",
       "      <td>0</td>\n",
       "      <td>60</td>\n",
       "    </tr>\n",
       "  </tbody>\n",
       "</table>\n",
       "<p>4661107 rows × 6 columns</p>\n",
       "</div>"
      ],
      "text/plain": [
       "          timestamp  geo_id   user_id  domain_id  gender  age\n",
       "0        1711945301    2540   1013613       3207       1   75\n",
       "1        1711972560    2540   1013613        207       1   75\n",
       "2        1711954939    2540   1013613        698       1   75\n",
       "3        1711941903    3833  17082498       2042       0   72\n",
       "4        1712044263    3833  17082498       2042       0   72\n",
       "...             ...     ...       ...        ...     ...  ...\n",
       "4661102  1711976568    2293   6656337       1892       0   41\n",
       "4661103  1711941218    2712   5917152       1654       1   58\n",
       "4661104  1712045245     860   2103837         11       1   53\n",
       "4661105  1712145174     302  10496894        662       1   59\n",
       "4661106  1712053566    3816  12914242       1834       0   60\n",
       "\n",
       "[4661107 rows x 6 columns]"
      ]
     },
     "execution_count": 13,
     "metadata": {},
     "output_type": "execute_result"
    }
   ],
   "source": [
    "req1 = pd.merge(req1, users, on='user_id', how='inner')\n",
    "req1"
   ]
  },
  {
   "cell_type": "code",
   "execution_count": 14,
   "id": "12e5e31f-2ca1-4703-b5ec-717267033972",
   "metadata": {},
   "outputs": [
    {
     "data": {
      "text/plain": [
       "<Axes: xlabel='domain_id'>"
      ]
     },
     "execution_count": 14,
     "metadata": {},
     "output_type": "execute_result"
    },
    {
     "data": {
      "image/png": "[encoded data removed]",
      "text/plain": [
       "<Figure size 640x480 with 1 Axes>"
      ]
     },
     "metadata": {},
     "output_type": "display_data"
    }
   ],
   "source": [
    "\n",
    "req1.groupby('domain_id').agg({ 'user_id' : len }).plot()"
   ]
  },
  {
   "cell_type": "code",
   "execution_count": 15,
   "id": "a60c9d7e-7585-462d-bd38-2b5b2a02e81c",
   "metadata": {},
   "outputs": [
    {
     "data": {
      "text/plain": [
       "(pandas.core.frame.DataFrame,\n",
       "                         domain_id  \\\n",
       " user_id                             \n",
       " 2                          [1654]   \n",
       " 3                      [2867, 78]   \n",
       " 6                          [3194]   \n",
       " 20                          [449]   \n",
       " 23                         [2729]   \n",
       " 25                     [145, 145]   \n",
       " 31                   [2206, 2206]   \n",
       " 32                           [-1]   \n",
       " 43                   [1654, 1654]   \n",
       " 46       [3168, 2206, 2285, 2042]   \n",
       " \n",
       "                                                 timestamp        gender  \\\n",
       " user_id                                                                   \n",
       " 2                                            [1712017297]           [1]   \n",
       " 3                                [1712158201, 1712082733]        [1, 1]   \n",
       " 6                                            [1711966047]           [0]   \n",
       " 20                                           [1711961988]           [0]   \n",
       " 23                                           [1712050954]           [1]   \n",
       " 25                               [1711982201, 1712078825]        [0, 0]   \n",
       " 31                               [1711971099, 1711984084]        [1, 1]   \n",
       " 32                                           [1712044334]           [1]   \n",
       " 43                               [1711973633, 1712057005]        [0, 0]   \n",
       " 46       [1711956914, 1711998504, 1711993097, 1712157873]  [1, 1, 1, 1]   \n",
       " \n",
       "                       age                    geo_id  \n",
       " user_id                                              \n",
       " 2                    [61]                     [708]  \n",
       " 3                [55, 55]                [150, 150]  \n",
       " 6                    [46]                    [3173]  \n",
       " 20                   [15]                    [5368]  \n",
       " 23                   [48]                    [3833]  \n",
       " 25               [59, 59]              [4602, 4602]  \n",
       " 31               [50, 50]              [3173, 3173]  \n",
       " 32                   [61]                    [3948]  \n",
       " 43               [62, 62]              [3833, 3833]  \n",
       " 46       [64, 64, 64, 64]  [3948, 3948, 3948, 3948]  )"
      ]
     },
     "execution_count": 15,
     "metadata": {},
     "output_type": "execute_result"
    }
   ],
   "source": [
    "#user_reqs = req.groupby('user_id')['domain_id'].apply(list)\n",
    "user_reqs = req1.groupby('user_id').agg(\n",
    "    domain_id=('domain_id', list),\n",
    "    timestamp=('timestamp', list),\n",
    "    gender=('gender', list),\n",
    "    age=('age', list),\n",
    "    geo_id=('geo_id', list)\n",
    ")\n",
    "type(user_reqs), user_reqs[:10]"
   ]
  },
  {
   "cell_type": "code",
   "execution_count": 19,
   "id": "a8b52825-56ad-4b3e-b6b9-ce40566f6ba2",
   "metadata": {},
   "outputs": [
    {
     "name": "stdout",
     "output_type": "stream",
     "text": [
      "domain_id          [1654]\n",
      "timestamp    [1712017297]\n",
      "gender                [1]\n",
      "age                  [61]\n",
      "geo_id              [708]\n",
      "Name: 2, dtype: object\n"
     ]
    },
    {
     "data": {
      "text/html": [
       "<div>\n",
       "<style scoped>\n",
       "    .dataframe tbody tr th:only-of-type {\n",
       "        vertical-align: middle;\n",
       "    }\n",
       "\n",
       "    .dataframe tbody tr th {\n",
       "        vertical-align: top;\n",
       "    }\n",
       "\n",
       "    .dataframe thead th {\n",
       "        text-align: right;\n",
       "    }\n",
       "</style>\n",
       "<table border=\"1\" class=\"dataframe\">\n",
       "  <thead>\n",
       "    <tr style=\"text-align: right;\">\n",
       "      <th></th>\n",
       "      <th>domain_id</th>\n",
       "      <th>timestamp</th>\n",
       "      <th>gender</th>\n",
       "      <th>age</th>\n",
       "      <th>geo_id</th>\n",
       "    </tr>\n",
       "    <tr>\n",
       "      <th>user_id</th>\n",
       "      <th></th>\n",
       "      <th></th>\n",
       "      <th></th>\n",
       "      <th></th>\n",
       "      <th></th>\n",
       "    </tr>\n",
       "  </thead>\n",
       "  <tbody>\n",
       "    <tr>\n",
       "      <th>2</th>\n",
       "      <td>[1654]</td>\n",
       "      <td>[1712017297]</td>\n",
       "      <td>[1]</td>\n",
       "      <td>[61]</td>\n",
       "      <td>[708]</td>\n",
       "    </tr>\n",
       "    <tr>\n",
       "      <th>3</th>\n",
       "      <td>[2867, 78]</td>\n",
       "      <td>[1712158201, 1712082733]</td>\n",
       "      <td>[1, 1]</td>\n",
       "      <td>[55, 55]</td>\n",
       "      <td>[150, 150]</td>\n",
       "    </tr>\n",
       "    <tr>\n",
       "      <th>6</th>\n",
       "      <td>[3194]</td>\n",
       "      <td>[1711966047]</td>\n",
       "      <td>[0]</td>\n",
       "      <td>[46]</td>\n",
       "      <td>[3173]</td>\n",
       "    </tr>\n",
       "    <tr>\n",
       "      <th>20</th>\n",
       "      <td>[449]</td>\n",
       "      <td>[1711961988]</td>\n",
       "      <td>[0]</td>\n",
       "      <td>[15]</td>\n",
       "      <td>[5368]</td>\n",
       "    </tr>\n",
       "    <tr>\n",
       "      <th>23</th>\n",
       "      <td>[2729]</td>\n",
       "      <td>[1712050954]</td>\n",
       "      <td>[1]</td>\n",
       "      <td>[48]</td>\n",
       "      <td>[3833]</td>\n",
       "    </tr>\n",
       "    <tr>\n",
       "      <th>...</th>\n",
       "      <td>...</td>\n",
       "      <td>...</td>\n",
       "      <td>...</td>\n",
       "      <td>...</td>\n",
       "      <td>...</td>\n",
       "    </tr>\n",
       "    <tr>\n",
       "      <th>17588853</th>\n",
       "      <td>[2434, 2434, 2434, 609]</td>\n",
       "      <td>[1712132630, 1712139434, 1711949850, 1711949802]</td>\n",
       "      <td>[0, 0, 0, 0]</td>\n",
       "      <td>[44, 44, 44, 44]</td>\n",
       "      <td>[3827, 3827, 3827, 3827]</td>\n",
       "    </tr>\n",
       "    <tr>\n",
       "      <th>17588855</th>\n",
       "      <td>[-1, 3019]</td>\n",
       "      <td>[1712104936, 1712105817]</td>\n",
       "      <td>[1, 1]</td>\n",
       "      <td>[50, 50]</td>\n",
       "      <td>[34, 34]</td>\n",
       "    </tr>\n",
       "    <tr>\n",
       "      <th>17588860</th>\n",
       "      <td>[2238, 2238, 2238, 2042, 609, 2238, 2238, 2238]</td>\n",
       "      <td>[1712022186, 1712024363, 1712021929, 171207907...</td>\n",
       "      <td>[0, 0, 0, 0, 0, 0, 0, 0]</td>\n",
       "      <td>[69, 69, 69, 69, 69, 69, 69, 69]</td>\n",
       "      <td>[3173, 3173, 3173, 3173, 3173, 3173, 3173, 3173]</td>\n",
       "    </tr>\n",
       "    <tr>\n",
       "      <th>17588864</th>\n",
       "      <td>[2194, 2194, 2194]</td>\n",
       "      <td>[1712163588, 1712117743, 1711936350]</td>\n",
       "      <td>[0, 0, 0]</td>\n",
       "      <td>[30, 30, 30]</td>\n",
       "      <td>[1023, 1023, 1023]</td>\n",
       "    </tr>\n",
       "    <tr>\n",
       "      <th>17588865</th>\n",
       "      <td>[2998]</td>\n",
       "      <td>[1712173677]</td>\n",
       "      <td>[0]</td>\n",
       "      <td>[38]</td>\n",
       "      <td>[1014]</td>\n",
       "    </tr>\n",
       "  </tbody>\n",
       "</table>\n",
       "<p>2640892 rows × 5 columns</p>\n",
       "</div>"
      ],
      "text/plain": [
       "                                                domain_id  \\\n",
       "user_id                                                     \n",
       "2                                                  [1654]   \n",
       "3                                              [2867, 78]   \n",
       "6                                                  [3194]   \n",
       "20                                                  [449]   \n",
       "23                                                 [2729]   \n",
       "...                                                   ...   \n",
       "17588853                          [2434, 2434, 2434, 609]   \n",
       "17588855                                       [-1, 3019]   \n",
       "17588860  [2238, 2238, 2238, 2042, 609, 2238, 2238, 2238]   \n",
       "17588864                               [2194, 2194, 2194]   \n",
       "17588865                                           [2998]   \n",
       "\n",
       "                                                  timestamp  \\\n",
       "user_id                                                       \n",
       "2                                              [1712017297]   \n",
       "3                                  [1712158201, 1712082733]   \n",
       "6                                              [1711966047]   \n",
       "20                                             [1711961988]   \n",
       "23                                             [1712050954]   \n",
       "...                                                     ...   \n",
       "17588853   [1712132630, 1712139434, 1711949850, 1711949802]   \n",
       "17588855                           [1712104936, 1712105817]   \n",
       "17588860  [1712022186, 1712024363, 1712021929, 171207907...   \n",
       "17588864               [1712163588, 1712117743, 1711936350]   \n",
       "17588865                                       [1712173677]   \n",
       "\n",
       "                            gender                               age  \\\n",
       "user_id                                                                \n",
       "2                              [1]                              [61]   \n",
       "3                           [1, 1]                          [55, 55]   \n",
       "6                              [0]                              [46]   \n",
       "20                             [0]                              [15]   \n",
       "23                             [1]                              [48]   \n",
       "...                            ...                               ...   \n",
       "17588853              [0, 0, 0, 0]                  [44, 44, 44, 44]   \n",
       "17588855                    [1, 1]                          [50, 50]   \n",
       "17588860  [0, 0, 0, 0, 0, 0, 0, 0]  [69, 69, 69, 69, 69, 69, 69, 69]   \n",
       "17588864                 [0, 0, 0]                      [30, 30, 30]   \n",
       "17588865                       [0]                              [38]   \n",
       "\n",
       "                                                    geo_id  \n",
       "user_id                                                     \n",
       "2                                                    [708]  \n",
       "3                                               [150, 150]  \n",
       "6                                                   [3173]  \n",
       "20                                                  [5368]  \n",
       "23                                                  [3833]  \n",
       "...                                                    ...  \n",
       "17588853                          [3827, 3827, 3827, 3827]  \n",
       "17588855                                          [34, 34]  \n",
       "17588860  [3173, 3173, 3173, 3173, 3173, 3173, 3173, 3173]  \n",
       "17588864                                [1023, 1023, 1023]  \n",
       "17588865                                            [1014]  \n",
       "\n",
       "[2640892 rows x 5 columns]"
      ]
     },
     "execution_count": 19,
     "metadata": {},
     "output_type": "execute_result"
    }
   ],
   "source": [
    "for index, rows in user_reqs.iterrows(): \n",
    "    print(rows)\n",
    "\n",
    "    break\n",
    "user_reqs"
   ]
  }
 ],
 "metadata": {
  "kernelspec": {
   "display_name": "Python 3 (ipykernel)",
   "language": "python",
   "name": "python3"
  },
  "language_info": {
   "codemirror_mode": {
    "name": "ipython",
    "version": 3
   },
   "file_extension": ".py",
   "mimetype": "text/x-python",
   "name": "python",
   "nbconvert_exporter": "python",
   "pygments_lexer": "ipython3",
   "version": "3.11.8"
  }
 },
 "nbformat": 4,
 "nbformat_minor": 5
}
